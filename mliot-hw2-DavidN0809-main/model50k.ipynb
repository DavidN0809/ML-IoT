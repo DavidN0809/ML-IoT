{
 "cells": [
  {
   "cell_type": "code",
   "execution_count": 6,
   "id": "198fcf14",
   "metadata": {},
   "outputs": [
    {
     "name": "stdout",
     "output_type": "stream",
     "text": [
      "2.11.0\n",
      "/device:GPU:0\n"
     ]
    },
    {
     "name": "stderr",
     "output_type": "stream",
     "text": [
      "2023-02-20 21:30:13.267695: I tensorflow/compiler/xla/stream_executor/cuda/cuda_gpu_executor.cc:981] successful NUMA node read from SysFS had negative value (-1), but there must be at least one NUMA node, so returning NUMA node zero\n",
      "2023-02-20 21:30:13.267885: I tensorflow/compiler/xla/stream_executor/cuda/cuda_gpu_executor.cc:981] successful NUMA node read from SysFS had negative value (-1), but there must be at least one NUMA node, so returning NUMA node zero\n",
      "2023-02-20 21:30:13.267952: I tensorflow/compiler/xla/stream_executor/cuda/cuda_gpu_executor.cc:981] successful NUMA node read from SysFS had negative value (-1), but there must be at least one NUMA node, so returning NUMA node zero\n",
      "2023-02-20 21:30:13.268056: I tensorflow/compiler/xla/stream_executor/cuda/cuda_gpu_executor.cc:981] successful NUMA node read from SysFS had negative value (-1), but there must be at least one NUMA node, so returning NUMA node zero\n",
      "2023-02-20 21:30:13.268115: I tensorflow/compiler/xla/stream_executor/cuda/cuda_gpu_executor.cc:981] successful NUMA node read from SysFS had negative value (-1), but there must be at least one NUMA node, so returning NUMA node zero\n",
      "2023-02-20 21:30:13.268169: I tensorflow/core/common_runtime/gpu/gpu_device.cc:1613] Created device /device:GPU:0 with 6111 MB memory:  -> device: 0, name: NVIDIA GeForce RTX 3070 Laptop GPU, pci bus id: 0000:01:00.0, compute capability: 8.6\n"
     ]
    }
   ],
   "source": [
    "import tensorflow as tf\n",
    "import numpy as np\n",
    "import matplotlib.pyplot as plt\n",
    "\n",
    "\n",
    "\n",
    "from tensorflow.keras.layers import Conv2D, BatchNormalization, MaxPooling2D, Flatten, Dense, Input, DepthwiseConv2D, Dropout, Add, GlobalAveragePooling2D, Input, SeparableConv2D\n",
    "from tensorflow.keras.callbacks import EarlyStopping\n",
    "from tensorflow.keras.models import Sequential, Model  \n",
    "\n",
    "print(tf.__version__)\n",
    "print(tf.test.gpu_device_name())"
   ]
  },
  {
   "cell_type": "code",
   "execution_count": 7,
   "id": "4b7a1f57",
   "metadata": {},
   "outputs": [
    {
     "name": "stdout",
     "output_type": "stream",
     "text": [
      "Training Images range from 0.00000 to 1.00000\n",
      "Test     Images range from 0.00000 to 1.00000\n",
      "(32, 32, 3)\n"
     ]
    },
    {
     "data": {
      "image/png": "[encoded data removed]",
      "text/plain": [
       "<Figure size 640x480 with 2 Axes>"
      ]
     },
     "metadata": {},
     "output_type": "display_data"
    }
   ],
   "source": [
    "########################################\n",
    "## Add code here to Load the CIFAR10 data set\n",
    "(train_images, train_labels), (test_images, test_labels) = tf.keras.datasets.cifar10.load_data()\n",
    "class_names = ['airplane','automobile','bird','cat','deer','dog','frog','horse','ship','truck']\n",
    "\n",
    "# Now separate out a validation set.\n",
    "val_frac = 0.1\n",
    "num_val_samples = int(len(train_images)*val_frac)\n",
    "# choose num_val_samples indices up to the size of train_images, !replace => no repeats\n",
    "val_idxs = np.random.choice(np.arange(len(train_images)), size=num_val_samples, replace=False)\n",
    "trn_idxs = np.setdiff1d(np.arange(len(train_images)), val_idxs)\n",
    "val_images = train_images[val_idxs, :,:,:]\n",
    "train_images = train_images[trn_idxs, :,:,:]\n",
    "\n",
    "val_labels = train_labels[val_idxs]\n",
    "train_labels = train_labels[trn_idxs]\n",
    "\n",
    "train_labels = train_labels.squeeze()\n",
    "test_labels = test_labels.squeeze()\n",
    "val_labels = val_labels.squeeze()\n",
    "\n",
    "input_shape  = train_images.shape[1:]\n",
    "train_images = train_images / 255.0\n",
    "test_images  = test_images  / 255.0\n",
    "val_images   = val_images   / 255.0\n",
    "print(\"Training Images range from {:2.5f} to {:2.5f}\".format(np.min(train_images), np.max(train_images)))\n",
    "print(\"Test     Images range from {:2.5f} to {:2.5f}\".format(np.min(test_images), np.max(test_images)))\n",
    "\n",
    "idx = 2401\n",
    "plt.figure()\n",
    "plt.imshow(train_images[idx], cmap='Greys')\n",
    "plt.colorbar()\n",
    "plt.grid(False)\n",
    "plt.title(\"Label = {:}\".format(class_names[train_labels[idx]]))\n",
    "print(input_shape)"
   ]
  },
  {
   "cell_type": "code",
   "execution_count": 17,
   "id": "5ad009c0",
   "metadata": {},
   "outputs": [],
   "source": [
    "def build_model_50k(learning_rate):\n",
    "    input_shape = (32, 32, 3)\n",
    "\n",
    "    model = tf.keras.Sequential([\n",
    "        Input(shape=input_shape),\n",
    "        Conv2D(32, kernel_size=(3,3), strides=(2,2), activation=\"relu\", padding='same'),\n",
    "        BatchNormalization(),\n",
    "        \n",
    "        SeparableConv2D(64, kernel_size=(3,3), strides=(2,2), activation=\"relu\", padding='same'),\n",
    "        BatchNormalization(),\n",
    "        \n",
    "        SeparableConv2D(64, kernel_size=(3,3), strides=(2,2), activation=\"relu\", padding='same'),\n",
    "        BatchNormalization(),\n",
    "        \n",
    "        SeparableConv2D(64, kernel_size=(3,3), activation=\"relu\", padding='same'),\n",
    "        BatchNormalization(),\n",
    "\n",
    "        SeparableConv2D(64, kernel_size=(3,3), activation=\"relu\", padding='same'),\n",
    "        BatchNormalization(),\n",
    "\n",
    "        SeparableConv2D(64, kernel_size=(3,3), activation=\"relu\", padding='same'),\n",
    "        BatchNormalization(),\n",
    "\n",
    "        SeparableConv2D(64, kernel_size=(3,3), activation=\"relu\", padding='same'),\n",
    "        BatchNormalization(),\n",
    "        \n",
    "        SeparableConv2D(64, kernel_size=(3,3), activation=\"relu\", padding='same'),\n",
    "        BatchNormalization(),\n",
    "\n",
    "        SeparableConv2D(64, kernel_size=(3,3), activation=\"relu\", padding='same'),\n",
    "        BatchNormalization(),\n",
    "        \n",
    "        SeparableConv2D(64, kernel_size=(3,3), activation=\"relu\", padding='same'),\n",
    "        BatchNormalization(),\n",
    "\n",
    "\n",
    "        #finishing layers\n",
    "        MaxPooling2D(pool_size=(4, 4), strides=(4, 4)),\n",
    "        Flatten(),\n",
    "        Dense(64, activation='relu'),\n",
    "        Dense(10)\n",
    "    ])\n",
    "    \n",
    "    \n",
    "    optimizer = tf.keras.optimizers.Adam(learning_rate=learning_rate)\n",
    "\n",
    "    model.compile(optimizer=optimizer,\n",
    "                  loss=tf.keras.losses.SparseCategoricalCrossentropy(from_logits=True),\n",
    "                  metrics=['accuracy'])\n",
    "    \n",
    "    return model\n"
   ]
  },
  {
   "cell_type": "code",
   "execution_count": 18,
   "id": "50e9c365",
   "metadata": {},
   "outputs": [
    {
     "name": "stdout",
     "output_type": "stream",
     "text": [
      "Model: \"sequential_3\"\n",
      "_________________________________________________________________\n",
      " Layer (type)                Output Shape              Param #   \n",
      "=================================================================\n",
      " conv2d_3 (Conv2D)           (None, 16, 16, 32)        896       \n",
      "                                                                 \n",
      " batch_normalization_30 (Bat  (None, 16, 16, 32)       128       \n",
      " chNormalization)                                                \n",
      "                                                                 \n",
      " separable_conv2d_27 (Separa  (None, 8, 8, 64)         2400      \n",
      " bleConv2D)                                                      \n",
      "                                                                 \n",
      " batch_normalization_31 (Bat  (None, 8, 8, 64)         256       \n",
      " chNormalization)                                                \n",
      "                                                                 \n",
      " separable_conv2d_28 (Separa  (None, 4, 4, 64)         4736      \n",
      " bleConv2D)                                                      \n",
      "                                                                 \n",
      " batch_normalization_32 (Bat  (None, 4, 4, 64)         256       \n",
      " chNormalization)                                                \n",
      "                                                                 \n",
      " separable_conv2d_29 (Separa  (None, 4, 4, 64)         4736      \n",
      " bleConv2D)                                                      \n",
      "                                                                 \n",
      " batch_normalization_33 (Bat  (None, 4, 4, 64)         256       \n",
      " chNormalization)                                                \n",
      "                                                                 \n",
      " separable_conv2d_30 (Separa  (None, 4, 4, 64)         4736      \n",
      " bleConv2D)                                                      \n",
      "                                                                 \n",
      " batch_normalization_34 (Bat  (None, 4, 4, 64)         256       \n",
      " chNormalization)                                                \n",
      "                                                                 \n",
      " separable_conv2d_31 (Separa  (None, 4, 4, 64)         4736      \n",
      " bleConv2D)                                                      \n",
      "                                                                 \n",
      " batch_normalization_35 (Bat  (None, 4, 4, 64)         256       \n",
      " chNormalization)                                                \n",
      "                                                                 \n",
      " separable_conv2d_32 (Separa  (None, 4, 4, 64)         4736      \n",
      " bleConv2D)                                                      \n",
      "                                                                 \n",
      " batch_normalization_36 (Bat  (None, 4, 4, 64)         256       \n",
      " chNormalization)                                                \n",
      "                                                                 \n",
      " separable_conv2d_33 (Separa  (None, 4, 4, 64)         4736      \n",
      " bleConv2D)                                                      \n",
      "                                                                 \n",
      " batch_normalization_37 (Bat  (None, 4, 4, 64)         256       \n",
      " chNormalization)                                                \n",
      "                                                                 \n",
      " separable_conv2d_34 (Separa  (None, 4, 4, 64)         4736      \n",
      " bleConv2D)                                                      \n",
      "                                                                 \n",
      " batch_normalization_38 (Bat  (None, 4, 4, 64)         256       \n",
      " chNormalization)                                                \n",
      "                                                                 \n",
      " separable_conv2d_35 (Separa  (None, 4, 4, 64)         4736      \n",
      " bleConv2D)                                                      \n",
      "                                                                 \n",
      " batch_normalization_39 (Bat  (None, 4, 4, 64)         256       \n",
      " chNormalization)                                                \n",
      "                                                                 \n",
      " max_pooling2d_3 (MaxPooling  (None, 1, 1, 64)         0         \n",
      " 2D)                                                             \n",
      "                                                                 \n",
      " flatten_3 (Flatten)         (None, 64)                0         \n",
      "                                                                 \n",
      " dense_6 (Dense)             (None, 64)                4160      \n",
      "                                                                 \n",
      " dense_7 (Dense)             (None, 10)                650       \n",
      "                                                                 \n",
      "=================================================================\n",
      "Total params: 48,426\n",
      "Trainable params: 47,210\n",
      "Non-trainable params: 1,216\n",
      "_________________________________________________________________\n"
     ]
    }
   ],
   "source": [
    "model = build_model_50k(learning_rate=4e-3)\n",
    "model.summary()"
   ]
  },
  {
   "cell_type": "code",
   "execution_count": 19,
   "id": "c726ad24",
   "metadata": {},
   "outputs": [
    {
     "name": "stdout",
     "output_type": "stream",
     "text": [
      "Epoch 1/50\n",
      "1407/1407 [==============================] - 15s 8ms/step - loss: 1.7270 - accuracy: 0.3596 - val_loss: 1.7299 - val_accuracy: 0.4216\n",
      "Epoch 2/50\n",
      "1407/1407 [==============================] - 11s 8ms/step - loss: 1.4515 - accuracy: 0.4733 - val_loss: 1.8001 - val_accuracy: 0.4542\n",
      "Epoch 3/50\n",
      "1407/1407 [==============================] - 11s 8ms/step - loss: 1.3123 - accuracy: 0.5318 - val_loss: 1.3356 - val_accuracy: 0.5332\n",
      "Epoch 4/50\n",
      "1407/1407 [==============================] - 11s 8ms/step - loss: 1.2173 - accuracy: 0.5703 - val_loss: 1.2157 - val_accuracy: 0.5762\n",
      "Epoch 5/50\n",
      "1407/1407 [==============================] - 11s 8ms/step - loss: 1.1478 - accuracy: 0.5950 - val_loss: 1.2252 - val_accuracy: 0.5798\n",
      "Epoch 6/50\n",
      "1407/1407 [==============================] - 11s 8ms/step - loss: 1.0909 - accuracy: 0.6136 - val_loss: 1.2206 - val_accuracy: 0.5814\n",
      "Epoch 7/50\n",
      "1407/1407 [==============================] - 11s 8ms/step - loss: 1.0442 - accuracy: 0.6300 - val_loss: 1.0879 - val_accuracy: 0.6142\n",
      "Epoch 8/50\n",
      "1407/1407 [==============================] - 10s 7ms/step - loss: 1.0027 - accuracy: 0.6466 - val_loss: 1.0618 - val_accuracy: 0.6198\n",
      "Epoch 9/50\n",
      "1407/1407 [==============================] - 10s 7ms/step - loss: 0.9651 - accuracy: 0.6590 - val_loss: 1.0195 - val_accuracy: 0.6444\n",
      "Epoch 10/50\n",
      "1407/1407 [==============================] - 11s 8ms/step - loss: 0.9269 - accuracy: 0.6716 - val_loss: 1.1036 - val_accuracy: 0.6202\n",
      "Epoch 11/50\n",
      "1407/1407 [==============================] - 10s 7ms/step - loss: 0.9000 - accuracy: 0.6849 - val_loss: 1.0998 - val_accuracy: 0.6292\n",
      "Epoch 12/50\n",
      "1407/1407 [==============================] - 11s 8ms/step - loss: 0.8710 - accuracy: 0.6947 - val_loss: 1.0553 - val_accuracy: 0.6422\n",
      "Epoch 13/50\n",
      "1407/1407 [==============================] - 11s 8ms/step - loss: 0.8525 - accuracy: 0.7001 - val_loss: 0.9831 - val_accuracy: 0.6554\n",
      "Epoch 14/50\n",
      "1407/1407 [==============================] - 11s 8ms/step - loss: 0.8294 - accuracy: 0.7069 - val_loss: 1.0934 - val_accuracy: 0.6332\n",
      "Epoch 15/50\n",
      "1407/1407 [==============================] - 11s 7ms/step - loss: 0.8149 - accuracy: 0.7150 - val_loss: 1.0043 - val_accuracy: 0.6536\n",
      "Epoch 16/50\n",
      "1407/1407 [==============================] - 11s 8ms/step - loss: 0.7874 - accuracy: 0.7239 - val_loss: 1.0409 - val_accuracy: 0.6430\n",
      "Epoch 17/50\n",
      "1407/1407 [==============================] - 11s 8ms/step - loss: 0.7759 - accuracy: 0.7250 - val_loss: 0.9582 - val_accuracy: 0.6680\n",
      "Epoch 18/50\n",
      "1407/1407 [==============================] - 11s 8ms/step - loss: 0.7549 - accuracy: 0.7349 - val_loss: 0.9659 - val_accuracy: 0.6674\n",
      "Epoch 19/50\n",
      "1407/1407 [==============================] - 10s 7ms/step - loss: 0.7424 - accuracy: 0.7371 - val_loss: 0.9869 - val_accuracy: 0.6590\n",
      "Epoch 20/50\n",
      "1407/1407 [==============================] - 11s 7ms/step - loss: 0.7296 - accuracy: 0.7431 - val_loss: 1.0267 - val_accuracy: 0.6552\n",
      "Epoch 21/50\n",
      "1407/1407 [==============================] - 10s 7ms/step - loss: 0.7135 - accuracy: 0.7497 - val_loss: 1.0766 - val_accuracy: 0.6446\n",
      "Epoch 22/50\n",
      "1407/1407 [==============================] - 10s 7ms/step - loss: 0.7060 - accuracy: 0.7507 - val_loss: 0.9736 - val_accuracy: 0.6744\n"
     ]
    }
   ],
   "source": [
    "early_stop = EarlyStopping(monitor='val_loss', patience=5)\n",
    "\n",
    "history = model.fit(train_images, train_labels, epochs=50,\n",
    "                    validation_data=(val_images, val_labels),\n",
    "                    callbacks=[early_stop])"
   ]
  },
  {
   "cell_type": "code",
   "execution_count": 20,
   "id": "41ebb92b",
   "metadata": {},
   "outputs": [
    {
     "name": "stdout",
     "output_type": "stream",
     "text": [
      "313/313 [==============================] - 1s 3ms/step - loss: 0.9830 - accuracy: 0.6671\n",
      "Test accuracy: 0.6671000123023987\n"
     ]
    }
   ],
   "source": [
    "test_loss, test_acc = model.evaluate(test_images, test_labels)\n",
    "print('Test accuracy:', test_acc)"
   ]
  },
  {
   "cell_type": "code",
   "execution_count": 22,
   "id": "9e6a788f",
   "metadata": {},
   "outputs": [],
   "source": [
    "def test_model50k_params():\n",
    "  assert model.count_params() <= 50000\n",
    "\n",
    "def test_model50k_acc50():\n",
    "  loss, acc = model.evaluate(test_images, test_labels)\n",
    "  assert acc >= 0.5\n",
    "\n",
    "def test_model50k_acc60():\n",
    "  loss, acc = model.evaluate(test_images, test_labels)\n",
    "  assert acc >= 0.55\n"
   ]
  },
  {
   "cell_type": "code",
   "execution_count": 23,
   "id": "739e3a19",
   "metadata": {},
   "outputs": [
    {
     "name": "stdout",
     "output_type": "stream",
     "text": [
      "313/313 [==============================] - 1s 3ms/step - loss: 0.9830 - accuracy: 0.6671\n",
      "313/313 [==============================] - 1s 3ms/step - loss: 0.9830 - accuracy: 0.6671\n"
     ]
    }
   ],
   "source": [
    "test_model50k_params()\n",
    "test_model50k_acc50()\n",
    "test_model50k_acc60()"
   ]
  },
  {
   "cell_type": "code",
   "execution_count": 24,
   "id": "092dbda4",
   "metadata": {},
   "outputs": [],
   "source": [
    "model.save('best_model.h5')"
   ]
  },
  {
   "cell_type": "code",
   "execution_count": null,
   "id": "b8b483d2",
   "metadata": {},
   "outputs": [],
   "source": []
  }
 ],
 "metadata": {
  "kernelspec": {
   "display_name": "Python 3 (ipykernel)",
   "language": "python",
   "name": "python3"
  },
  "language_info": {
   "codemirror_mode": {
    "name": "ipython",
    "version": 3
   },
   "file_extension": ".py",
   "mimetype": "text/x-python",
   "name": "python",
   "nbconvert_exporter": "python",
   "pygments_lexer": "ipython3",
   "version": "3.10.6"
  }
 },
 "nbformat": 4,
 "nbformat_minor": 5
}
