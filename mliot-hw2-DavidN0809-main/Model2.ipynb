{
 "cells": [
  {
   "cell_type": "code",
   "execution_count": 1,
   "id": "e66990dd",
   "metadata": {},
   "outputs": [
    {
     "name": "stderr",
     "output_type": "stream",
     "text": [
      "2023-02-20 21:18:01.631480: I tensorflow/core/platform/cpu_feature_guard.cc:193] This TensorFlow binary is optimized with oneAPI Deep Neural Network Library (oneDNN) to use the following CPU instructions in performance-critical operations:  AVX2 AVX_VNNI FMA\n",
      "To enable them in other operations, rebuild TensorFlow with the appropriate compiler flags.\n",
      "2023-02-20 21:18:01.716324: I tensorflow/core/util/port.cc:104] oneDNN custom operations are on. You may see slightly different numerical results due to floating-point round-off errors from different computation orders. To turn them off, set the environment variable `TF_ENABLE_ONEDNN_OPTS=0`.\n",
      "2023-02-20 21:18:02.372195: W tensorflow/compiler/xla/stream_executor/platform/default/dso_loader.cc:64] Could not load dynamic library 'libnvinfer.so.7'; dlerror: libnvinfer.so.7: cannot open shared object file: No such file or directory; LD_LIBRARY_PATH: /usr/lib/cuda/include:/usr/lib/cuda/lib64::/home/david/anaconda3/envs/tf/lib/\n",
      "2023-02-20 21:18:02.372231: W tensorflow/compiler/xla/stream_executor/platform/default/dso_loader.cc:64] Could not load dynamic library 'libnvinfer_plugin.so.7'; dlerror: libnvinfer_plugin.so.7: cannot open shared object file: No such file or directory; LD_LIBRARY_PATH: /usr/lib/cuda/include:/usr/lib/cuda/lib64::/home/david/anaconda3/envs/tf/lib/\n",
      "2023-02-20 21:18:02.372233: W tensorflow/compiler/tf2tensorrt/utils/py_utils.cc:38] TF-TRT Warning: Cannot dlopen some TensorRT libraries. If you would like to use Nvidia GPU with TensorRT, please make sure the missing libraries mentioned above are installed properly.\n"
     ]
    },
    {
     "name": "stdout",
     "output_type": "stream",
     "text": [
      "2.11.0\n",
      "/device:GPU:0\n"
     ]
    },
    {
     "name": "stderr",
     "output_type": "stream",
     "text": [
      "2023-02-20 21:18:03.355116: I tensorflow/core/platform/cpu_feature_guard.cc:193] This TensorFlow binary is optimized with oneAPI Deep Neural Network Library (oneDNN) to use the following CPU instructions in performance-critical operations:  AVX2 AVX_VNNI FMA\n",
      "To enable them in other operations, rebuild TensorFlow with the appropriate compiler flags.\n",
      "2023-02-20 21:18:03.375236: I tensorflow/compiler/xla/stream_executor/cuda/cuda_gpu_executor.cc:981] successful NUMA node read from SysFS had negative value (-1), but there must be at least one NUMA node, so returning NUMA node zero\n",
      "2023-02-20 21:18:03.378253: I tensorflow/compiler/xla/stream_executor/cuda/cuda_gpu_executor.cc:981] successful NUMA node read from SysFS had negative value (-1), but there must be at least one NUMA node, so returning NUMA node zero\n",
      "2023-02-20 21:18:03.378342: I tensorflow/compiler/xla/stream_executor/cuda/cuda_gpu_executor.cc:981] successful NUMA node read from SysFS had negative value (-1), but there must be at least one NUMA node, so returning NUMA node zero\n",
      "2023-02-20 21:18:03.811635: I tensorflow/compiler/xla/stream_executor/cuda/cuda_gpu_executor.cc:981] successful NUMA node read from SysFS had negative value (-1), but there must be at least one NUMA node, so returning NUMA node zero\n",
      "2023-02-20 21:18:03.811751: I tensorflow/compiler/xla/stream_executor/cuda/cuda_gpu_executor.cc:981] successful NUMA node read from SysFS had negative value (-1), but there must be at least one NUMA node, so returning NUMA node zero\n",
      "2023-02-20 21:18:03.811814: I tensorflow/compiler/xla/stream_executor/cuda/cuda_gpu_executor.cc:981] successful NUMA node read from SysFS had negative value (-1), but there must be at least one NUMA node, so returning NUMA node zero\n",
      "2023-02-20 21:18:03.811876: I tensorflow/core/common_runtime/gpu/gpu_device.cc:1613] Created device /device:GPU:0 with 5805 MB memory:  -> device: 0, name: NVIDIA GeForce RTX 3070 Laptop GPU, pci bus id: 0000:01:00.0, compute capability: 8.6\n"
     ]
    }
   ],
   "source": [
    "# TensorFlow and tf.keras\n",
    "import tensorflow as tf\n",
    "\n",
    "# Helper libraries\n",
    "import numpy as np\n",
    "import matplotlib.pyplot as plt\n",
    "\n",
    "from tensorflow.keras.layers import Conv2D, BatchNormalization, MaxPooling2D, Flatten, Dense, Input, DepthwiseConv2D, Dropout, Add, GlobalAveragePooling2D, Input, SeparableConv2D\n",
    "\n",
    "from tensorflow.keras.models import Sequential, Model  \n",
    "from tensorflow.keras.callbacks import EarlyStopping\n",
    "\n",
    "print(tf.__version__)\n",
    "print(tf.test.gpu_device_name())\n"
   ]
  },
  {
   "cell_type": "code",
   "execution_count": 2,
   "id": "9139f2a9",
   "metadata": {},
   "outputs": [
    {
     "name": "stdout",
     "output_type": "stream",
     "text": [
      "Training Images range from 0.00000 to 1.00000\n",
      "Test     Images range from 0.00000 to 1.00000\n",
      "(32, 32, 3)\n"
     ]
    },
    {
     "data": {
      "image/png": "[encoded data removed]",
      "text/plain": [
       "<Figure size 640x480 with 2 Axes>"
      ]
     },
     "metadata": {},
     "output_type": "display_data"
    }
   ],
   "source": [
    "########################################\n",
    "## Add code here to Load the CIFAR10 data set\n",
    "(train_images, train_labels), (test_images, test_labels) = tf.keras.datasets.cifar10.load_data()\n",
    "class_names = ['airplane','automobile','bird','cat','deer','dog','frog','horse','ship','truck']\n",
    "\n",
    "# Now separate out a validation set.\n",
    "val_frac = 0.1\n",
    "num_val_samples = int(len(train_images)*val_frac)\n",
    "# choose num_val_samples indices up to the size of train_images, !replace => no repeats\n",
    "val_idxs = np.random.choice(np.arange(len(train_images)), size=num_val_samples, replace=False)\n",
    "trn_idxs = np.setdiff1d(np.arange(len(train_images)), val_idxs)\n",
    "val_images = train_images[val_idxs, :,:,:]\n",
    "train_images = train_images[trn_idxs, :,:,:]\n",
    "\n",
    "val_labels = train_labels[val_idxs]\n",
    "train_labels = train_labels[trn_idxs]\n",
    "\n",
    "train_labels = train_labels.squeeze()\n",
    "test_labels = test_labels.squeeze()\n",
    "val_labels = val_labels.squeeze()\n",
    "\n",
    "input_shape  = train_images.shape[1:]\n",
    "train_images = train_images / 255.0\n",
    "test_images  = test_images  / 255.0\n",
    "val_images   = val_images   / 255.0\n",
    "print(\"Training Images range from {:2.5f} to {:2.5f}\".format(np.min(train_images), np.max(train_images)))\n",
    "print(\"Test     Images range from {:2.5f} to {:2.5f}\".format(np.min(test_images), np.max(test_images)))\n",
    "\n",
    "idx = 2401\n",
    "plt.figure()\n",
    "plt.imshow(train_images[idx], cmap='Greys')\n",
    "plt.colorbar()\n",
    "plt.grid(False)\n",
    "plt.title(\"Label = {:}\".format(class_names[train_labels[idx]]))\n",
    "print(input_shape)"
   ]
  },
  {
   "cell_type": "code",
   "execution_count": 3,
   "id": "21576a77",
   "metadata": {},
   "outputs": [],
   "source": [
    "def build_model2():\n",
    "    input_shape = (32, 32, 3)\n",
    "\n",
    "    model = tf.keras.Sequential([\n",
    "        Input(shape=input_shape, name='input'),\n",
    "        Conv2D(32, kernel_size=(3,3), strides=(2,2), activation=\"relu\", padding='same', name='conv1'),\n",
    "        BatchNormalization(name='batch1'),\n",
    "        \n",
    "        SeparableConv2D(64, kernel_size=(3,3), strides=(2,2), activation=\"relu\", padding='same', name='sep_conv2'),\n",
    "        BatchNormalization(name='batch2'),\n",
    "        \n",
    "        SeparableConv2D(128, kernel_size=(3,3), strides=(2,2), activation=\"relu\", padding='same', name='sep_conv3'),\n",
    "        BatchNormalization(name='batch3'),\n",
    "        \n",
    "        # Add a batchnorm layer here\n",
    "        #BatchNormalization(name='batch4'),\n",
    "        \n",
    "        SeparableConv2D(128, kernel_size=(3,3), activation=\"relu\", padding='same', name='sep_conv5'),\n",
    "        BatchNormalization(name='batch5'),\n",
    "\n",
    "        SeparableConv2D(128, kernel_size=(3,3), activation=\"relu\", padding='same', name='sep_conv6'),\n",
    "        BatchNormalization(name='batch6'),\n",
    "\n",
    "        SeparableConv2D(128, kernel_size=(3,3), activation=\"relu\", padding='same', name='sep_conv7'),\n",
    "        BatchNormalization(name='batch7'),\n",
    "\n",
    "        SeparableConv2D(128, kernel_size=(3,3), activation=\"relu\", padding='same', name='sep_conv8'),\n",
    "        BatchNormalization(name='batch8'),\n",
    "\n",
    "        #finishing layers\n",
    "        MaxPooling2D(pool_size=(4, 4), strides=(4, 4), name='pool'),\n",
    "        Flatten(name='flatten'),\n",
    "        Dense(128, activation='relu', name='dense1'),\n",
    "        Dense(10, name='dense2')\n",
    "    ], name='model_2')\n",
    "    \n",
    "    model.compile(optimizer='adam',\n",
    "                  loss=tf.keras.losses.SparseCategoricalCrossentropy(from_logits=True),\n",
    "                  metrics=['accuracy'])\n",
    "    \n",
    "    return model\n"
   ]
  },
  {
   "cell_type": "code",
   "execution_count": 4,
   "id": "2358c152",
   "metadata": {},
   "outputs": [
    {
     "name": "stdout",
     "output_type": "stream",
     "text": [
      "Model: \"model_2\"\n",
      "_________________________________________________________________\n",
      " Layer (type)                Output Shape              Param #   \n",
      "=================================================================\n",
      " conv1 (Conv2D)              (None, 16, 16, 32)        896       \n",
      "                                                                 \n",
      " batch1 (BatchNormalization)  (None, 16, 16, 32)       128       \n",
      "                                                                 \n",
      " sep_conv2 (SeparableConv2D)  (None, 8, 8, 64)         2400      \n",
      "                                                                 \n",
      " batch2 (BatchNormalization)  (None, 8, 8, 64)         256       \n",
      "                                                                 \n",
      " sep_conv3 (SeparableConv2D)  (None, 4, 4, 128)        8896      \n",
      "                                                                 \n",
      " batch3 (BatchNormalization)  (None, 4, 4, 128)        512       \n",
      "                                                                 \n",
      " sep_conv5 (SeparableConv2D)  (None, 4, 4, 128)        17664     \n",
      "                                                                 \n",
      " batch5 (BatchNormalization)  (None, 4, 4, 128)        512       \n",
      "                                                                 \n",
      " sep_conv6 (SeparableConv2D)  (None, 4, 4, 128)        17664     \n",
      "                                                                 \n",
      " batch6 (BatchNormalization)  (None, 4, 4, 128)        512       \n",
      "                                                                 \n",
      " sep_conv7 (SeparableConv2D)  (None, 4, 4, 128)        17664     \n",
      "                                                                 \n",
      " batch7 (BatchNormalization)  (None, 4, 4, 128)        512       \n",
      "                                                                 \n",
      " sep_conv8 (SeparableConv2D)  (None, 4, 4, 128)        17664     \n",
      "                                                                 \n",
      " batch8 (BatchNormalization)  (None, 4, 4, 128)        512       \n",
      "                                                                 \n",
      " pool (MaxPooling2D)         (None, 1, 1, 128)         0         \n",
      "                                                                 \n",
      " flatten (Flatten)           (None, 128)               0         \n",
      "                                                                 \n",
      " dense1 (Dense)              (None, 128)               16512     \n",
      "                                                                 \n",
      " dense2 (Dense)              (None, 10)                1290      \n",
      "                                                                 \n",
      "=================================================================\n",
      "Total params: 103,594\n",
      "Trainable params: 102,122\n",
      "Non-trainable params: 1,472\n",
      "_________________________________________________________________\n"
     ]
    },
    {
     "name": "stderr",
     "output_type": "stream",
     "text": [
      "2023-02-20 21:18:10.469226: I tensorflow/compiler/xla/stream_executor/cuda/cuda_gpu_executor.cc:981] successful NUMA node read from SysFS had negative value (-1), but there must be at least one NUMA node, so returning NUMA node zero\n",
      "2023-02-20 21:18:10.469384: I tensorflow/compiler/xla/stream_executor/cuda/cuda_gpu_executor.cc:981] successful NUMA node read from SysFS had negative value (-1), but there must be at least one NUMA node, so returning NUMA node zero\n",
      "2023-02-20 21:18:10.469514: I tensorflow/compiler/xla/stream_executor/cuda/cuda_gpu_executor.cc:981] successful NUMA node read from SysFS had negative value (-1), but there must be at least one NUMA node, so returning NUMA node zero\n",
      "2023-02-20 21:18:10.469817: I tensorflow/compiler/xla/stream_executor/cuda/cuda_gpu_executor.cc:981] successful NUMA node read from SysFS had negative value (-1), but there must be at least one NUMA node, so returning NUMA node zero\n",
      "2023-02-20 21:18:10.469958: I tensorflow/compiler/xla/stream_executor/cuda/cuda_gpu_executor.cc:981] successful NUMA node read from SysFS had negative value (-1), but there must be at least one NUMA node, so returning NUMA node zero\n",
      "2023-02-20 21:18:10.470056: I tensorflow/compiler/xla/stream_executor/cuda/cuda_gpu_executor.cc:981] successful NUMA node read from SysFS had negative value (-1), but there must be at least one NUMA node, so returning NUMA node zero\n",
      "2023-02-20 21:18:10.470216: I tensorflow/compiler/xla/stream_executor/cuda/cuda_gpu_executor.cc:981] successful NUMA node read from SysFS had negative value (-1), but there must be at least one NUMA node, so returning NUMA node zero\n",
      "2023-02-20 21:18:10.470281: I tensorflow/compiler/xla/stream_executor/cuda/cuda_gpu_executor.cc:981] successful NUMA node read from SysFS had negative value (-1), but there must be at least one NUMA node, so returning NUMA node zero\n",
      "2023-02-20 21:18:10.470332: I tensorflow/core/common_runtime/gpu/gpu_device.cc:1613] Created device /job:localhost/replica:0/task:0/device:GPU:0 with 5805 MB memory:  -> device: 0, name: NVIDIA GeForce RTX 3070 Laptop GPU, pci bus id: 0000:01:00.0, compute capability: 8.6\n"
     ]
    }
   ],
   "source": [
    "model2 = build_model2()\n",
    "\n",
    "# print the model summary\n",
    "model2.summary()"
   ]
  },
  {
   "cell_type": "code",
   "execution_count": null,
   "id": "1a67f991",
   "metadata": {},
   "outputs": [],
   "source": [
    "def test_model2_params():\n",
    "  assert model2.count_params() in [104138, 103594]\n"
   ]
  },
  {
   "cell_type": "code",
   "execution_count": null,
   "id": "19244480",
   "metadata": {},
   "outputs": [],
   "source": [
    "test_model2_params()"
   ]
  },
  {
   "cell_type": "code",
   "execution_count": null,
   "id": "d5705e77",
   "metadata": {},
   "outputs": [],
   "source": [
    "#train_hist = model2.fit(train_images, train_labels, \n",
    "#                  validation_data=(val_images, val_labels), # or use `validation_split=0.1`\n",
    "#                  epochs=50)"
   ]
  },
  {
   "cell_type": "code",
   "execution_count": null,
   "id": "92e4bdb6",
   "metadata": {},
   "outputs": [],
   "source": [
    "import matplotlib.pyplot as plt\n",
    "\n",
    "# Plot training and validation loss\n",
    "plt.plot(train_hist.history['loss'])\n",
    "plt.plot(train_hist.history['val_loss'])\n",
    "plt.title('Model Loss')\n",
    "plt.ylabel('Loss')\n",
    "plt.xlabel('Epoch')\n",
    "plt.legend(['Training', 'Validation'], loc='upper right')\n",
    "plt.show()\n",
    "\n",
    "# Plot training and validation accuracy\n",
    "plt.plot(train_hist.history['accuracy'])\n",
    "plt.plot(train_hist.history['val_accuracy'])\n",
    "plt.title('Model Accuracy')\n",
    "plt.ylabel('Accuracy')\n",
    "plt.xlabel('Epoch')\n",
    "plt.legend(['Training', 'Validation'], loc='lower right')\n",
    "plt.show()\n"
   ]
  }
 ],
 "metadata": {
  "kernelspec": {
   "display_name": "Python 3 (ipykernel)",
   "language": "python",
   "name": "python3"
  },
  "language_info": {
   "codemirror_mode": {
    "name": "ipython",
    "version": 3
   },
   "file_extension": ".py",
   "mimetype": "text/x-python",
   "name": "python",
   "nbconvert_exporter": "python",
   "pygments_lexer": "ipython3",
   "version": "3.10.6"
  }
 },
 "nbformat": 4,
 "nbformat_minor": 5
}
